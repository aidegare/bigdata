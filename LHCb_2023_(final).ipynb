{
  "cells": [
    {
      "cell_type": "markdown",
      "metadata": {
        "id": "view-in-github",
        "colab_type": "text"
      },
      "source": [
        "<a href=\"https://colab.research.google.com/github/aidegare/bigdata/blob/main/LHCb_2023_(final).ipynb\" target=\"_parent\"><img src=\"https://colab.research.google.com/assets/colab-badge.svg\" alt=\"Open In Colab\"/></a>"
      ]
    },
    {
      "cell_type": "markdown",
      "metadata": {
        "id": "1JafiSIrvEKW"
      },
      "source": [
        "Welcome to Week 2!\n",
        "\n",
        "We will be focussing in Particle Physics Analysis and detecting matter/antimatter assymetries in the production of certain types of particles. ![LHCb detector](https://www1b.physik.rwth-aachen.de/~schael/LHCb_files/LHCB%20PREVIEW-white-bg.jpg)\n",
        "\n",
        "The data we are using comes from LHCb - one of the experiments at LHC. It is a highly specialised detector aimed at detecting decays involving the B-quark. Unlike the other major experiments, LHCb detects particles very close to the source and looks almost exclusively in the forward direction - this gives the detector many advantages compared to other experiments at LHC.\n",
        "\n",
        "In order to get started, we need to access the [ROOT framework](https://root.cern.ch/) and download some datafiles into this machine.\n",
        "."
      ]
    },
    {
      "cell_type": "code",
      "execution_count": 1,
      "metadata": {
        "collapsed": true,
        "id": "vFclIR72w0mU"
      },
      "outputs": [],
      "source": [
        "!wget https://github.com/MohamedElashri/HEP-ML/releases/download/ROOT/ROOT.tar.zip\n",
        "!unzip /content/ROOT.tar.zip\n",
        "!tar -xf  ROOT.tar\n",
        "!apt-get install git dpkg-dev cmake g++ gcc binutils libx11-dev libxpm-dev libxft-dev libxext-dev tar gfortran subversion libpython3.6 \n",
        "# !pip install root_numpy # optional if you want to convert Trees to numpy arrays and other things like that\n"
      ]
    },
    {
      "cell_type": "code",
      "execution_count": 2,
      "metadata": {
        "id": "zC7znVqfPx3z"
      },
      "outputs": [],
      "source": [
        "import sys\n",
        "sys.path.append(\"/content/root_build/\")\n",
        "sys.path.append(\"/content/root_build/bin/\")\n",
        "sys.path.append(\"/content/root_build/include/\")\n",
        "sys.path.append(\"/content/root_build/lib/\")\n",
        "\n"
      ]
    },
    {
      "cell_type": "code",
      "execution_count": 3,
      "metadata": {
        "id": "COPyXIvbxqht",
        "colab": {
          "base_uri": "https://localhost:8080/"
        },
        "outputId": "7bf2ad83-732f-47a3-f857-57559d2d9202"
      },
      "outputs": [
        {
          "output_type": "execute_result",
          "data": {
            "text/plain": [
              "<CDLL '/content/root_build/lib/libPyROOT.so', handle 1e38530 at 0x7ff6e4394430>"
            ]
          },
          "metadata": {},
          "execution_count": 3
        }
      ],
      "source": [
        "import ctypes\n",
        "ctypes.cdll.LoadLibrary('/content/root_build/lib/libCore.so')\n",
        "ctypes.cdll.LoadLibrary('/content/root_build/lib/libThread.so')\n",
        "ctypes.cdll.LoadLibrary('/content/root_build/lib/libTreePlayer.so')\n",
        "ctypes.cdll.LoadLibrary('/content/root_build/lib/libImt.so')\n",
        "ctypes.cdll.LoadLibrary('/content/root_build/lib/libRIO.so')\n",
        "ctypes.cdll.LoadLibrary('/content/root_build/lib/libNet.so')\n",
        "ctypes.cdll.LoadLibrary('/content/root_build/lib/libTree.so')\n",
        "ctypes.cdll.LoadLibrary('/content/root_build/lib/libMathCore.so')\n",
        "ctypes.cdll.LoadLibrary('/content/root_build/lib/libMatrix.so')\n",
        "ctypes.cdll.LoadLibrary('/content/root_build/lib/libHist.so')\n",
        "ctypes.cdll.LoadLibrary('/content/root_build/lib/libGraf.so')\n",
        "ctypes.cdll.LoadLibrary('/content/root_build/lib/libGpad.so')\n",
        "ctypes.cdll.LoadLibrary('/content/root_build/lib/libGraf3d.so')\n",
        "ctypes.cdll.LoadLibrary('/content/root_build/lib/libMultiProc.so')\n",
        "ctypes.cdll.LoadLibrary('/content/root_build/lib/libMinuit.so')\n",
        "ctypes.cdll.LoadLibrary('/content/root_build/lib/libFoam.so')\n",
        "ctypes.cdll.LoadLibrary('/content/root_build/lib/libPyROOT.so')"
      ]
    },
    {
      "cell_type": "code",
      "execution_count": 4,
      "metadata": {
        "id": "s2vh3GOm73bj",
        "colab": {
          "base_uri": "https://localhost:8080/"
        },
        "outputId": "b0b7df2d-fada-40ad-ef97-ecf81aec862c"
      },
      "outputs": [
        {
          "output_type": "stream",
          "name": "stdout",
          "text": [
            "/usr/local/bin/python\n"
          ]
        }
      ],
      "source": [
        "!which python"
      ]
    },
    {
      "cell_type": "code",
      "execution_count": 5,
      "metadata": {
        "id": "QTVz7NQMyDCb"
      },
      "outputs": [],
      "source": [
        "#Now we can check if we have everything working as we expect: \n",
        "#Import brings the ROOT framework into our python environment.\n",
        "import ROOT\n",
        "#We define a 1 dimensional histogram, with 100 bins which ranges from -4 to +4\n",
        "h = ROOT.TH1F(\"gauss\",\"Example histogram\",100,-4,4)\n",
        "#Fill the histogram with gaussian (random) distribution\n",
        "h.FillRandom(\"gaus\")\n",
        "#make a Canvas (i.e. a drawing)\n",
        "c = ROOT.TCanvas(\"myCanvasName\",\"The Canvas Title\",800,600)\n",
        "#Draw my histogram\n",
        "h.Draw()\n",
        "#Show me the canvas\n",
        "c.Draw()"
      ]
    },
    {
      "cell_type": "markdown",
      "metadata": {
        "id": "VXW1M6XB0tXP"
      },
      "source": [
        "All being well - this should give no errors and we should have some kind of Gaussian distribution above.\n",
        "\n",
        "The next step is to get our data file - you can find it on Canvas here: https://canvas.maastrichtuniversity.nl/courses/12320/modules/items/450514\n",
        "\n",
        "Then upload it either directly or to your Google Drive and then mount this to your Colab environment"
      ]
    },
    {
      "cell_type": "markdown",
      "source": [
        "# IMPORTANT: Since Google Colab was repeatedly crashing with the ROOT framework, I had to import it for every cell since I had to comment out all the previous cell to be able to work on this assignment. I apologize for the poor readability of a few exercises, but that is the only way I made it work."
      ],
      "metadata": {
        "id": "jprJm7UnGKM_"
      }
    },
    {
      "cell_type": "code",
      "execution_count": 6,
      "metadata": {
        "id": "Co476pbmBvBB"
      },
      "outputs": [],
      "source": [
        "import ROOT\n",
        "#Then we open the ROOT file using the TFile command. - note you need to make this file path correct for your own setup!\n",
        "f = ROOT.TFile.Open(\"/content/drive/MyDrive/B2HHH_MagnetDown.root\", \"READONLY\")\n",
        "\n",
        "#From our file, we have to extract the DecayTree \n",
        "tree=f.Get(\"DecayTree\")\n",
        "\n",
        "#Now we can grab some variables as a test:\n",
        "ymomentum = ROOT.RooRealVar(\"H1_PY\",\"H1 Y Momentum\",-3000,3000,\"MeV/c\")\n",
        "xmomentum = ROOT.RooRealVar(\"H1_PX\",\"H1 X Momentum\",-3000,3000,\"MeV/c\")\n",
        "zmomentum = ROOT.RooRealVar(\"H1_PZ\",\"H1 Z Momentum\",-3000,3000,\"MeV/c\")\n",
        "\n",
        "# We then create a dataset for us to play with\n",
        "data = ROOT.RooDataSet(\"data\",\"data set\", tree, ROOT.RooArgSet(xmomentum,ymomentum,zmomentum), \"1==1\")\n",
        "\n",
        "# Now we create a canvas, plot our data onto the canvas and draw it:\n",
        "c = ROOT.TCanvas(\"c\",\"c\")\n",
        "frame = xmomentum.frame()\n",
        "data.plotOn(frame)\n",
        "frame.Draw()\n",
        "c.Draw()\n"
      ]
    },
    {
      "cell_type": "code",
      "execution_count": 7,
      "metadata": {
        "id": "_hTwH06EBiL4",
        "colab": {
          "base_uri": "https://localhost:8080/"
        },
        "outputId": "b0074508-d6e4-400d-9e06-a190ee5202e6"
      },
      "outputs": [
        {
          "output_type": "stream",
          "name": "stdout",
          "text": [
            "Drive already mounted at /content/drive; to attempt to forcibly remount, call drive.mount(\"/content/drive\", force_remount=True).\n"
          ]
        }
      ],
      "source": [
        "from google.colab import drive\n",
        "drive.mount('/content/drive')"
      ]
    },
    {
      "cell_type": "markdown",
      "metadata": {
        "id": "4e4n4iS3IJZi"
      },
      "source": [
        "#Why are we here?\n",
        "\n",
        "This week is about finding out something about one of the fundemental questions in physics. Why do we have \"stuff\".\n",
        "\n",
        "According to many of our models, and according to many measurements in particle physics, matter and anti-matter appear to be produced in equal quantities.\n",
        "\n",
        "However, when one looks at the Universe in general, we have more matter than anti-matter left - so there need to be some processes where anti-matter and matter are not produced equally. You can find out more about the Matter/Anti-Matter Asymmetry [here](http://press.web.cern.ch/backgrounders/matterantimatter-asymmetry)\n",
        "\n",
        "One place we look for this asymetry is in [charge-partity (CP) violation](https://www.symmetrymagazine.org/article/october-2005/explain-it-in-60-seconds) in particle physics processes. This essentially says that the processes that happen in the anti-particle version of a decay do not **exactly** match to the processes that happen in the particle version of the decay.\n",
        "\n",
        "\n",
        "\n",
        "---\n",
        "\n",
        "\n",
        "\n",
        "At LHCb, we produce both particle of the  B<sup>+</sup> meson and it's antiparticle the B<sup>-</sup> meson.\n",
        "\n",
        "We cannot detect these mesons directly. They decay into other things before we have a chance to measure them properly. So we collect data on the decay products, often called daughter particles. There are 524 [documented](http://pdg.lbl.gov/2014/listings/rpp2014-list-B-plus-minus.pdf) ways that the B<sup>+/-</sup> decays into various combinations. In order to simplify the process, we choose decay combinations that are convenient or have particular properties.\n",
        "\n",
        "In this analysis, we will take the process:-\n",
        "\n",
        "B<sup>+</sup>->K<sup>+</sup> + K<sup>+</sup>  + K<sup>-</sup>\n",
        "\n",
        "or\n",
        "\n",
        "B<sup>-</sup>->K<sup>-</sup> + K<sup>-</sup>  + K<sup>+</sup>\n",
        "\n",
        "\n",
        "To do so, we are given the following data for each event in our system:-\n",
        "\n",
        "![alt text](https://raw.githubusercontent.com/lhcb/opendata-project/80d64a3796e593fc8f9b257e85f32ae2e54f131f/Images/Variables.png)\n",
        "\n",
        "Here, H1 is the detected daughter particle (so a Kaon or a Pion), **not** the B-meson - the mother particle. Normally we would have to do some reconstruction from the decay products (the Daughters) to the Mother to be able to make some conclusions.\n",
        "\n",
        "Let's get started with working with this data:"
      ]
    },
    {
      "cell_type": "markdown",
      "metadata": {
        "id": "LOhfj7kfP-ao"
      },
      "source": [
        "For our analysis, the momentum of each of the daughter particles is split into the three cartesian components. We have combined these into a variable called H1_Ptot"
      ]
    },
    {
      "cell_type": "code",
      "execution_count": 8,
      "metadata": {
        "id": "Y4keyoyTPjsK"
      },
      "outputs": [],
      "source": [
        "#Here make a plot of the Total momentum of each of the three daughters\n",
        "import ROOT\n",
        "\n",
        "#Then we open the ROOT file using the TFile command. - note you need to make this file path correct for your own setup!\n",
        "f = ROOT.TFile.Open(\"/content/drive/MyDrive/B2HHH_MagnetDown.root\", \"READONLY\")\n",
        "\n",
        "#From our file, we have to extract the DecayTree \n",
        "tree=f.Get(\"DecayTree\")\n",
        "from math import *\n",
        "\n",
        "#Create the canvas, name the tree and get bins number\n",
        "tree.SetName(\"tree\")\n",
        "canvas = ROOT.TCanvas(\"c\")\n",
        "bins = \"1000\"\n",
        "\n",
        "#Create the total momentum variables, since the variables already created couldn't be used\n",
        "H1_Ptot = \"(sqrt((H1_PX**2)+(H1_PY**2)+(H1_PZ**2)))\"\n",
        "H2_Ptot = \"(sqrt((H2_PX**2)+(H2_PY**2)+(H2_PZ**2)))\"\n",
        "H3_Ptot = \"(sqrt((H3_PX**2)+(H3_PY**2)+(H3_PZ**2)))\"\n",
        "\n",
        "#Draw total momentum for every daughter particle\n",
        "tree.Draw(H1_Ptot +\">>TotP1(\"+bins+\",0,400000\")\n",
        "tree.Draw(H2_Ptot +\">>TotP2(\"+bins+\",0,400000\")\n",
        "tree.Draw(H3_Ptot +\">>TotP3(\"+bins+\",0,400000\")\n",
        "\n",
        "\n",
        "# #Create the right framework for the data to be used\n",
        "# histogram1 = ROOT.TH1F(\"P1\", \"Total Momentum\", int(bins),0,30000)\n",
        "# histogram2 = ROOT.TH1F(\"TotP2\", \"Total Momentum\", int(bins),0,30000)\n",
        "# histogram3 = ROOT.TH1F(\"TotP3\", \"Total Momentum\", int(bins),0,30000)\n",
        "\n",
        "# For some reason, this (^) was needed before the 25th of February but not after\n",
        "\n",
        "#Create the histograms from the directories\n",
        "histogram1 = ROOT.gDirectory.Get(\"TotP1\")\n",
        "histogram2 = ROOT.gDirectory.Get(\"TotP2\")\n",
        "histogram3 = ROOT.gDirectory.Get(\"TotP3\")\n",
        "\n",
        "#Set different colors for each histogram\n",
        "histogram1.SetLineColor(2)\n",
        "histogram2.SetLineColor(4)\n",
        "histogram3.SetLineColor(6)\n",
        "\n",
        "#Print the histograms together and the canvas\n",
        "histogram1.Draw()\n",
        "histogram2.Draw('same')\n",
        "histogram3.Draw('same')\n",
        "canvas.Update()\n",
        "canvas.Draw()"
      ]
    },
    {
      "cell_type": "markdown",
      "metadata": {
        "id": "C1lXLMCoR1Gi"
      },
      "source": [
        "Now plot the total momentum for the mother (M_Ptot)"
      ]
    },
    {
      "cell_type": "code",
      "execution_count": 9,
      "metadata": {
        "id": "6kdbiNpPR1QG"
      },
      "outputs": [],
      "source": [
        "#use the histogram plotting tools, plot the momentum of the mother\n",
        "import ROOT\n",
        "#Then we open the ROOT file using the TFile command. - note you need to make this file path correct for your own setup!\n",
        "f = ROOT.TFile.Open(\"/content/drive/MyDrive/B2HHH_MagnetDown.root\", \"READONLY\")\n",
        "#From our file, we have to extract the DecayTree \n",
        "tree=f.Get(\"DecayTree\")\n",
        "from math import *\n",
        "\n",
        "#Create the canvas, name the tree and get bins number\n",
        "tree.SetName(\"tree\")\n",
        "canvas = ROOT.TCanvas(\"blblblbl\")\n",
        "bins = \"1500\"\n",
        "\n",
        "# #Create the a framework allowing the data to be used later\n",
        "# histogram = ROOT.TH1F(\"TotP\", \"Total Momentum\", int(bins),0,600000)\n",
        "\n",
        "# For some reason, this (^) was needed before the 25th of February but not after\n",
        "\n",
        "#Creating the total momentum variable for the mother particle\n",
        "mom_entum = \"(sqrt((H1_PX + H2_PX + H3_PX)**2+(H1_PY + H2_PY + H3_PY)**2+(H1_PZ + H2_PZ + H3_PZ)**2))\"\n",
        "\n",
        "#Draw momentum of the mother particle\n",
        "tree.Draw(mom_entum+ \">>Mom_P(\"+bins+\",0,300000\")\n",
        "histogram = ROOT.gDirectory.Get(\"Mom_P\")\n",
        "histogram.Draw()\n",
        "canvas.Update()\n",
        "canvas.Draw()\n"
      ]
    },
    {
      "cell_type": "markdown",
      "metadata": {
        "id": "Gj5qv5kqSMIF"
      },
      "source": [
        "Let's take a look at the whole data file that is available to us by looking at one specific entry - number 45"
      ]
    },
    {
      "cell_type": "code",
      "execution_count": 10,
      "metadata": {
        "id": "QMkih_6SSG8I"
      },
      "outputs": [],
      "source": [
        "tree.Show(45)"
      ]
    },
    {
      "cell_type": "markdown",
      "metadata": {
        "id": "w3sqwtNTUEJd"
      },
      "source": [
        "We have now completed the initial steps and begun to work through what we need to with the data. This is a perfect moment to take a coffee!"
      ]
    },
    {
      "cell_type": "markdown",
      "metadata": {
        "id": "6RhWWqt3a8_e"
      },
      "source": [
        "Having discovered all of the relevant information about our daughter particles, we need to combine the measurements about them into a single mother - which will be our B<sup>+</sup> or our B<sup>-</sup>\n",
        "\n",
        "Having found our momentum and energy, we can use these quantities to find our experimental mass (not the theoretical mass as we have used for the reconstruction).\n",
        "\n",
        "When we calculate this, we will get a distribution of masses. This is due to errors in the measurements made either by the detector, or in the experiment itself. We hope to have a reasonably narrow peak to work with, but, sometimes this is not possible.\n",
        "\n",
        "Additionally there will be other particles in the detector - which means our daughters might have come from two or even three different processes. Events which don't come from the same process will give a higher or lower mass than we are looking for. This is typically called the *background* while events which come from our event of interest are called the *signal*"
      ]
    },
    {
      "cell_type": "code",
      "execution_count": 11,
      "metadata": {
        "id": "onr7-8CMbbFf"
      },
      "outputs": [],
      "source": [
        "#Now plot a histogram of the range of masses of the B meson.\n",
        "#Does this match what we would expect from theory?\n",
        "#use the histogram plotting tools, plot the momentum of the mother\n",
        "import ROOT\n",
        "\n",
        "#Then we open the ROOT file using the TFile command. - note you need to make this file path correct for your own setup!\n",
        "f = ROOT.TFile.Open(\"/content/drive/MyDrive/B2HHH_MagnetDown.root\", \"READONLY\")\n",
        "\n",
        "#From our file, we have to extract the DecayTree \n",
        "tree=f.Get(\"DecayTree\")\n",
        "\n",
        "#We need to do the maths since trying to access the variables created results in attempting to access a null-pointer \n",
        "#Create the energy variables of the three daughter particles\n",
        "\n",
        "#The given value of a Kaon mass is 493.67 Mev, but since we are working in natural units, the value has to be divided by c**2 which gives 5.48*10**(-15)\n",
        "E1 = \"(sqrt((5.48*10**(-15))**2 + (sqrt((H1_PX**2) + (H1_PY**2) + (H1_PZ**2)))**2))\"\n",
        "E2 = \"(sqrt((5.48*10**(-15))**2 + (sqrt((H2_PX**2) + (H2_PY**2) + (H2_PZ**2)))**2))\"\n",
        "E3 = \"(sqrt((5.48*10**(-15))**2 + (sqrt((H3_PX**2) + (H3_PY**2) + (H3_PZ**2)))**2))\"\n",
        "\n",
        "\n",
        "#Create the variables for the mother particle\n",
        "energy_mother = \"(\" + E1 + \"+\" + E2 + \"+\" + E3 + \")\"\n",
        "tot_momentum = \"(sqrt((H1_PX + H2_PX + H3_PX)**2+(H1_PY + H2_PY + H3_PY)**2+(H1_PZ + H2_PZ + H3_PZ)**2))\"\n",
        "mass_mother = \"(sqrt(\" + energy_mother + \"**2 - \" + tot_momentum + \"**2))\"\n",
        "\n",
        "#Create the canvas, name the tree and get bins number\n",
        "tree.SetName(\"tree\")\n",
        "canvas = ROOT.TCanvas(\"canvasMass\")\n",
        "bins = \"1000\"\n",
        "\n",
        "#Draw the mass of the mother particle\n",
        "tree.Draw(mass_mother+\">>MASS_MOM(1000,0,10000)\")\n",
        "\n",
        "# #Create the right framework for the data to be used later on\n",
        "# histogram = ROOT.TH1F(\"MASS_MOM\", \"Mass of mother particle\", int(bins),0,10000)\n",
        "\n",
        "# For some reason, this (^) was needed before the 25th of February but not after\n",
        "\n",
        "#Get the histogram from the directory\n",
        "histogram = ROOT.gDirectory.Get(\"MASS_MOM\")\n",
        "\n",
        "#Print the histogram and the canvas\n",
        "histogram.Draw()\n",
        "canvas.Update()\n",
        "canvas.Draw()"
      ]
    },
    {
      "cell_type": "markdown",
      "metadata": {
        "id": "MWGFKFnXb0RP"
      },
      "source": [
        "We know that some of our particles are the B+ and some are the B- particle. There will also be some particles in our system that are not coming from a genuine B+/- or are a B+/- but are not constructed from Kaons.\n",
        "\n",
        "We have some tools available to help:-\n",
        "\n",
        "  *  During detection, software attributes the probability of a particle being a Kaon or a Pion (in the H1_ProbK or H1_ProbPi variable)\n",
        "  * The detector also knows if the particle was a Muon - since it has detectors specifically for these. So it can attribute a 0 or a 1 to this probability\n",
        "  * The reconstructed vertex has a some kind of quality associated with it (we call this the Vertex χ2 (this is the variable B_VertexChi2). This is the statistical measure that determines how well we found a single point to be the source of all three particles.\n",
        "\n"
      ]
    },
    {
      "cell_type": "markdown",
      "metadata": {
        "id": "fEpnSmH4b9HZ"
      },
      "source": [
        "In order to get a better result, we should select our data to have the properties we desire and make some rules (often called a selection) to cut away data we don't want to include for various reasons. e.g. we know we don't have any muons in our decay - so any time H1/H2/H3 are a muon they should be excluded. The other variables are not so clear - so we can plot them to make a decision."
      ]
    },
    {
      "cell_type": "code",
      "execution_count": 12,
      "metadata": {
        "id": "k0vikJp0cAvv"
      },
      "outputs": [],
      "source": [
        "#Make plots of H1/H2/H3 _ProbK on one plot\n",
        "canvas = ROOT.TCanvas(\"help\")\n",
        "bins = \"1000\"\n",
        "#For once, attempting to access the variables created works, no need to do the maths\n",
        "#Draw the likehood of the particle for being a Kaon for all daughter particles\n",
        "tree.Draw(\"H1_ProbK\"+\">>H1_Prob(1000,0,1)\")\n",
        "tree.Draw(\"H2_ProbK\"+\">>H2_Prob(1000,0,1)\")\n",
        "tree.Draw(\"H3_ProbK\"+\">>H3_Prob(1000,0,1)\")\n",
        "\n",
        "#Create the histograms from the directories \n",
        "histogram1 = ROOT.gDirectory.Get(\"H1_Prob\")\n",
        "histogram2 = ROOT.gDirectory.Get(\"H2_Prob\")\n",
        "histogram3 = ROOT.gDirectory.Get(\"H3_Prob\")\n",
        "\n",
        "#Set different colours for each histogram\n",
        "histogram1.SetLineColor(2)\n",
        "histogram2.SetLineColor(4)\n",
        "histogram3.SetLineColor(6)\n",
        "\n",
        "#Print the histograms together and the canvas\n",
        "histogram1.Draw()\n",
        "histogram2.Draw('same')\n",
        "histogram3.Draw('same')\n",
        "canvas.Draw()"
      ]
    },
    {
      "cell_type": "code",
      "execution_count": 13,
      "metadata": {
        "id": "wM_92Q3814JG"
      },
      "outputs": [],
      "source": [
        "#Make plots of H1/H2/H3 _ProbPi on one plot\n",
        "canvas = ROOT.TCanvas(\"whyChris\")\n",
        "bins = \"1000\"\n",
        "\n",
        "#For once, attempting to access the variables created works, no need to do the maths\n",
        "#Draw the likehood of the particle for being a Kaon for all daughter particles\n",
        "tree.Draw(\"H1_ProbPi\"+\">>H1_Prob(1000,0,1)\")\n",
        "tree.Draw(\"H2_ProbPi\"+\">>H2_Prob(1000,0,1)\")\n",
        "tree.Draw(\"H3_ProbPi\"+\">>H3_Prob(1000,0,1)\")\n",
        "\n",
        "#Create the histograms from the directories \n",
        "histogram1 = ROOT.gDirectory.Get(\"H1_Prob\")\n",
        "histogram2 = ROOT.gDirectory.Get(\"H2_Prob\")\n",
        "histogram3 = ROOT.gDirectory.Get(\"H3_Prob\")\n",
        "\n",
        "#Set different colours for each histogram\n",
        "histogram1.SetLineColor(2)\n",
        "histogram2.SetLineColor(4)\n",
        "histogram3.SetLineColor(6)\n",
        "\n",
        "#Print the histograms together and the canvas\n",
        "histogram1.Draw()\n",
        "histogram2.Draw('same')\n",
        "histogram3.Draw('same')\n",
        "canvas.Draw()"
      ]
    },
    {
      "cell_type": "code",
      "execution_count": 14,
      "metadata": {
        "id": "a3yaUcYh4cC0"
      },
      "outputs": [],
      "source": [
        "#For all our particles, make a plot of the B_VertexChi2\n",
        "canvas = ROOT.TCanvas(\"canva\")\n",
        "tree.Draw(\"B_VertexChi2\"+\">>vert(1000, 0, 13)\")\n",
        "histogram = ROOT.gDirectory.Get(\"vert\")\n",
        "histogram.Draw()\n",
        "canvas.Draw()"
      ]
    },
    {
      "cell_type": "markdown",
      "metadata": {
        "id": "DWmxBkZ0cDx1"
      },
      "source": [
        "Using these plots, we can now make a preselection string. This is a text string that looks like "
      ]
    },
    {
      "cell_type": "code",
      "execution_count": 16,
      "metadata": {
        "id": "MxD7JMeicMu0"
      },
      "outputs": [],
      "source": [
        "#To apply the selection - we can use the copytree command:\n",
        "import ROOT\n",
        "\n",
        "#Then we open the ROOT file using the TFile command. - note you need to make this file path correct for your own setup!\n",
        "f = ROOT.TFile.Open(\"/content/drive/MyDrive/B2HHH_MagnetDown.root\", \"READONLY\")\n",
        "\n",
        "#From our file, we have to extract the DecayTree \n",
        "tree=f.Get(\"DecayTree\")\n",
        "\n",
        "#We want to know which ones are kaons, se we need to select them. The 0.7 boundary gives enough data\n",
        "#while also filtering enough noise. Then select for anything that is not a muon.\n",
        "selection=(\"H1_ProbK>0.7&H2_ProbK>0.7&H3_ProbK>0.7&!H1_isMuon&!H2_isMuon&!H3_isMuon\")\n",
        "CutTree=tree.CopyTree(selection)\n",
        "\n",
        "#We need to do the maths since trying to access the variables created results in attempting to access a null-pointer \n",
        "#Create the energy variables of the three daughter particles\n",
        "E1 = \"(sqrt((5.48*10**(-15))**2 + (sqrt((H1_PX**2) + (H1_PY**2) + (H1_PZ**2)))**2))\"\n",
        "E2 = \"(sqrt((5.48*10**(-15))**2 + (sqrt((H2_PX**2) + (H2_PY**2) + (H2_PZ**2)))**2))\"\n",
        "E3 = \"(sqrt((5.48*10**(-15))**2 + (sqrt((H3_PX**2) + (H3_PY**2) + (H3_PZ**2)))**2))\"\n",
        "\n",
        "#Create the variables for the mother particle\n",
        "energy_mother = \"(\" + E1 + \"+\" + E2 + \"+\" + E3 + \")\"\n",
        "tot_momentum = \"(sqrt((H1_PX + H2_PX + H3_PX)**2+(H1_PY + H2_PY + H3_PY)**2+(H1_PZ + H2_PZ + H3_PZ)**2))\"\n",
        "mass_mother = \"(sqrt(\" + energy_mother + \"**2 - \" + tot_momentum + \"**2))\"\n",
        "\n",
        "canvas = ROOT.TCanvas(\"itHurts\")\n",
        "\n",
        "tree.Draw(mass_mother+\">>mass_mom(1000,0,8000)\")\n",
        "CutTree.Draw(mass_mother+\">>cut_mass_mom(1000,0,8000)\")\n",
        "\n",
        "histogram = ROOT.gDirectory.Get(\"mass_mom\")\n",
        "histogram2 = ROOT.gDirectory.Get(\"cut_mass_mom\")\n",
        "\n",
        "histogram.SetLineColor(2)\n",
        "histogram2.SetLineColor(4)\n",
        "\n",
        "histogram.Draw()\n",
        "histogram2.Draw('same')\n",
        "\n",
        "canvas.Draw()\n",
        "\n",
        "#So now we take our data in tree and apply selection to it (so only events which comply with those rules are kept) and put the new data in CutTree"
      ]
    },
    {
      "cell_type": "code",
      "execution_count": 17,
      "metadata": {
        "id": "hmmsoUwEcOir"
      },
      "outputs": [],
      "source": [
        "#Now as a good check, we should see the effect of applying our cuts.\n",
        "#On one histogram, plot the B meson mass, from both the tree (pre-cuts) and the CutTree (post-cuts)\n",
        "#What do you notice about your histogram now?\n",
        "\n",
        "#To apply the selection - we can use the copytree command:\n",
        "import ROOT\n",
        "\n",
        "#Then we open the ROOT file using the TFile command. - note you need to make this file path correct for your own setup!\n",
        "f = ROOT.TFile.Open(\"/content/drive/MyDrive/B2HHH_MagnetDown.root\", \"READONLY\")\n",
        "\n",
        "#From our file, we have to extract the DecayTree \n",
        "tree=f.Get(\"DecayTree\")\n",
        "selection=(\"H1_ProbK>0.7&H2_ProbK>0.7&H3_ProbK>0.7&!H1_isMuon&!H2_isMuon&!H3_isMuon\")\n",
        "CutTree=tree.CopyTree(selection)\n",
        "\n",
        "#We need to do the maths since trying to access the variables created results in attempting to access a null-pointer \n",
        "#Create the energy variables of the three daughter particles\n",
        "E1 = \"(sqrt((5.48*10**(-15))**2 + (sqrt((H1_PX**2) + (H1_PY**2) + (H1_PZ**2)))**2))\"\n",
        "E2 = \"(sqrt((5.48*10**(-15))**2 + (sqrt((H2_PX**2) + (H2_PY**2) + (H2_PZ**2)))**2))\"\n",
        "E3 = \"(sqrt((5.48*10**(-15))**2 + (sqrt((H3_PX**2) + (H3_PY**2) + (H3_PZ**2)))**2))\"\n",
        "\n",
        "#Create the variables for the mother particle\n",
        "energy_mother = \"(\" + E1 + \"+\" + E2 + \"+\" + E3 + \")\"\n",
        "tot_momentum = \"(sqrt((H1_PX + H2_PX + H3_PX)**2+(H1_PY + H2_PY + H3_PY)**2+(H1_PZ + H2_PZ + H3_PZ)**2))\"\n",
        "mass_mother = \"(sqrt(\" + energy_mother + \"**2 - \" + tot_momentum + \"**2))\"\n",
        "\n",
        "canvas = ROOT.TCanvas(\"iWannaSleep\")\n",
        "\n",
        "CutTree.Draw(mass_mother+\">>cut_mass_mom(1000,0,8000)\")\n",
        "\n",
        "histogram = ROOT.gDirectory.Get(\"cut_mass_mom\")\n",
        "\n",
        "histogram.Draw()\n",
        "canvas.Draw()"
      ]
    },
    {
      "cell_type": "markdown",
      "metadata": {
        "id": "N1tResqvcMgQ"
      },
      "source": [
        "#How do we count the number of events?\n",
        "\n",
        "We now have a histogram of events that we have reconstructed as a B meson. But some of these events are caused by a co-incidence of events which would still occur if there were no B mesons actually produced. We call this the background. Background and signal are indistinguishable now as the detector cannot tell the difference and our cuts were unable to remove the events for physics reasons. We can do some statistical analysis, if we know the approximate shapes of our signal and our background. Just like a least-squares fitting we can run a fit routine to minimise the error between the fitted curve and our data. As an example, if we know our data has an exponential background and a gaussian signal:\n",
        "\n",
        "![Gaussian+Exp Background](https://twiki.cern.ch/twiki/pub/RooStats/RooStatsTutorialsJune2013/GausExpModelFit.png)\n",
        "\n",
        "Here the red line represents our signal, the blue dotted line is our background and the solid blue line is our combined curve. The graph also shows the number of signal events and the number of background events. The signal now is a tiny fraction of the total data shown in the plot.\n",
        "\n",
        "In order to do this, we need to build a fit model, around which the software can try to fit our data.\n",
        "\n",
        "We use RooFit for this, which includes:\n",
        "* Gaussian\n",
        "* Exponential\n",
        "* Chebychev\n",
        "* Crystal Ball\n",
        "* Breit-Wigner\n",
        "\n",
        "As well as several other choices.\n",
        "\n",
        "Typically exponential and Chebychev functions are used for background and Gaussian, Crystal Ball and Breit-Wigner are used for signal. We can also combine them (e.g. 1 crystal ball, 1 gaussian, 1 exponential) in various ways."
      ]
    },
    {
      "cell_type": "markdown",
      "source": [
        "# NOTE: From now on, the code may work or not. I just haven't had the opportunity of testing it in Google Colab because it kept crashing when operating the .fitTo() command. We tried with other students to fix this, but nothing worked... This is therefore a guess of how I could implement the code to perform the tasks asked."
      ],
      "metadata": {
        "id": "_KN-Jx_BG_GC"
      }
    },
    {
      "cell_type": "code",
      "execution_count": 18,
      "metadata": {
        "id": "R_7q_HY1qhiS"
      },
      "outputs": [],
      "source": [
        "#To apply the selection - we can use the copytree command:\n",
        "import ROOT\n",
        "\n",
        "#Then we open the ROOT file using the TFile command. - note you need to make this file path correct for your own setup!\n",
        "f = ROOT.TFile.Open(\"/content/drive/MyDrive/B2HHH_MagnetDown.root\", \"READONLY\")\n",
        "\n",
        "#From our file, we have to extract the DecayTree \n",
        "tree=f.Get(\"DecayTree\")\n",
        "selection=(\"H1_ProbK>0.7&H2_ProbK>0.7&H3_ProbPi>0.7&!H1_isMuon&!H2_isMuon&!H3_isMuon\")\n",
        "CutTree=tree.CopyTree(selection)\n",
        "\n",
        "#We need to do the maths since trying to access the variables created results in attempting to access a null-pointer \n",
        "#Create the energy variables of the three daughter particles\n",
        "E1 = \"(sqrt((5.48*10**(-15))**2 + (sqrt((H1_PX**2) + (H1_PY**2) + (H1_PZ**2)))**2))\"\n",
        "E2 = \"(sqrt((5.48*10**(-15))**2 + (sqrt((H2_PX**2) + (H2_PY**2) + (H2_PZ**2)))**2))\"\n",
        "E3 = \"(sqrt((5.48*10**(-15))**2 + (sqrt((H3_PX**2) + (H3_PY**2) + (H3_PZ**2)))**2))\"\n",
        "\n",
        "#Create the variables for the mother particle\n",
        "energy_mother = \"(\" + E1 + \"+\" + E2 + \"+\" + E3 + \")\"\n",
        "tot_momentum = \"(sqrt((H1_PX + H2_PX + H3_PX)**2+(H1_PY + H2_PY + H3_PY)**2+(H1_PZ + H2_PZ + H3_PZ)**2))\"\n",
        "mass_mother = \"(sqrt(\" + energy_mother + \"**2 - \" + tot_momentum + \"**2))\"\n",
        "\n",
        "#define physical measurment that we want to fit using RooRealVar\n",
        "# var = ROOT.RooRealVar =(\"Variable from Python\", \"Nickname\",Min, Max, Units)\n",
        "mass = ROOT.RooRealVar(\"mass_mother\",\"Mass\",5000,5900,\"MeV/C^{2}\")\n",
        "\n",
        "#passing the rest of the variables into the model\n",
        "#For the RooRealVar the last three parameters are given, \"starting value\" and min/max values\n",
        "gaussMean = ROOT.RooRealVar(\"Mean\",\"Mean\",5250,5000,6000)\n",
        "gaussWidth = ROOT.RooRealVar(\"Width\",\"Width\",10,0,10000)\n",
        "\n",
        "#Now we have enough to make our Model for the signal:\n",
        "\n",
        "Gauss=ROOT.RooGaussian(\"Gaussian Signal\",\"Gauss\",mass,gaussMean,gaussWidth)\n",
        "Gauss_Norm= ROOT.RooRealVar(\"Gauss_Norm\",\"Signal Yield\", tree.GetEntries()/30, 0, tree.GetEntries() * 3)\n",
        "\n",
        "#We also need a background, so let's use a (simple) exponential:\n",
        "exponent=ROOT.RooRealVar(\"exponent\", \"C\", -0.02, -2, +2)\n",
        "exp_Norm= ROOT.RooRealVar(\"exp_Norm\",\"Background Yield\", tree.GetEntries()/30, 0, tree.GetEntries() * 2)\n",
        "\n",
        "#Define the  model for the background:\n",
        "Bkgnd=ROOT.RooExponential(\"Exponential Background\",\"Bkgnd\",mass,exponent)\n",
        "\n",
        "#Now we need to combine these two functions into a single PDF (probability density function)\n",
        "#and we need to add the normalisation factors at the end as scaling factors\n",
        "\n",
        "model=ROOT.RooAddPdf(\"Full Model\",\"model\",ROOT.RooArgList(Gauss,Bkgnd),ROOT.RooArgList(Gauss_Norm, exp_Norm) )\n"
      ]
    },
    {
      "cell_type": "code",
      "execution_count": 19,
      "metadata": {
        "id": "PL-qVvs-dw86"
      },
      "outputs": [],
      "source": [
        "#To apply the selection - we can use the copytree command:\n",
        "import ROOT\n",
        "\n",
        "#Then we open the ROOT file using the TFile command. - note you need to make this file path correct for your own setup!\n",
        "f = ROOT.TFile.Open(\"/content/drive/MyDrive/B2HHH_MagnetDown.root\", \"READONLY\")\n",
        "\n",
        "#From our file, we have to extract the DecayTree \n",
        "tree=f.Get(\"DecayTree\")\n",
        "selection=(\"H1_ProbK>0.7&H2_ProbK>0.7&H3_ProbPi>0.7&!H1_isMuon&!H2_isMuon&!H3_isMuon\")\n",
        "CutTree=tree.CopyTree(selection)\n",
        "\n",
        "#Put our data set into a RooDataSet structure\n",
        "data_to_fit=ROOT.RooDataSet(\"Data Set\",\"data_to_fit\", CutTree, ROOT.RooArgSet(mass))\n",
        "\n",
        "#Then we can do the fitting:\n",
        "\n",
        "model.fitTo(data_to_fit)\n",
        "\n",
        "#if everything went well, you will see the outputs of RooFit below"
      ]
    },
    {
      "cell_type": "code",
      "execution_count": 20,
      "metadata": {
        "id": "bUhgxlRGd4XO"
      },
      "outputs": [],
      "source": [
        "#Crystal Ball method\n",
        "#To apply the selection - we can use the copytree command:\n",
        "import ROOT\n",
        "\n",
        "#Then we open the ROOT file using the TFile command. - note you need to make this file path correct for your own setup!\n",
        "f = ROOT.TFile.Open(\"/content/drive/MyDrive/B2HHH_MagnetDown.root\", \"READONLY\")\n",
        "\n",
        "#From our file, we have to extract the DecayTree \n",
        "tree=f.Get(\"DecayTree\")\n",
        "selection=(\"H1_ProbK>0.7&H2_ProbK>0.7&H3_ProbPi>0.7&!H1_isMuon&!H2_isMuon&!H3_isMuon\")\n",
        "CutTree=tree.CopyTree(selection)\n",
        "\n",
        "#We need to do the maths since trying to access the variables created results in attempting to access a null-pointer \n",
        "#Create the energy variables of the three daughter particles\n",
        "E1 = \"(sqrt((5.48*10**(-15))**2 + (sqrt((H1_PX**2) + (H1_PY**2) + (H1_PZ**2)))**2))\"\n",
        "E2 = \"(sqrt((5.48*10**(-15))**2 + (sqrt((H2_PX**2) + (H2_PY**2) + (H2_PZ**2)))**2))\"\n",
        "E3 = \"(sqrt((5.48*10**(-15))**2 + (sqrt((H3_PX**2) + (H3_PY**2) + (H3_PZ**2)))**2))\"\n",
        "\n",
        "#Create the variables for the mother particle\n",
        "energy_mother = \"(\" + E1 + \"+\" + E2 + \"+\" + E3 + \")\"\n",
        "tot_momentum = \"(sqrt((H1_PX + H2_PX + H3_PX)**2+(H1_PY + H2_PY + H3_PY)**2+(H1_PZ + H2_PZ + H3_PZ)**2))\"\n",
        "mass_mother = \"(sqrt(\" + energy_mother + \"**2 - \" + tot_momentum + \"**2))\"\n",
        "\n",
        "#define physical measurment that we want to fit using RooRealVar\n",
        "# var = ROOT.RooRealVar =(\"Variable from Python\", \"Nickname\",Min, Max, Units)\n",
        "mass = ROOT.RooRealVar(\"mass_mother\",\"Mass\",5000,5900,\"MeV/C^{2}\")\n",
        "ballMean = ROOT.RooRealVar(\"Mean\",\"Mean\",5250,5000,6000)\n",
        "ballWidth = ROOT.RooRealVar(\"Width\",\"Width\",10,0,10000)\n",
        "\n",
        "#Signal fit with crystal ball\n",
        "chris_ball = ROOT.RooCBShape(\"crystal ball signal\",\"Crystal ball\", mass, ballMean, ballWidth) \n",
        "chris_norm = ROOT.RooRealVar(\"crystal ball norm\", \"Norm\", mass, ballMean, ballWidth)\n",
        "\n",
        "#Get the values from the normalization and error for the fit\n",
        "chris_normvalues = chris_norm.getValV()\n",
        "chris_error = chris_norm.getError()\n",
        "\n",
        "#We also need a background, so let's use a (simple) exponential:\n",
        "exponent=ROOT.RooRealVar(\"exponent\", \"C\", -0.02, -2, +2)\n",
        "exp_Norm= ROOT.RooRealVar(\"exp_Norm\",\"Background Yield\", tree.GetEntries()/30, 0, tree.GetEntries() * 2)\n",
        "\n",
        "#Get the values from the normalization and error for the fit again\n",
        "exp_Norm_value = exp_Norm.getValV()\n",
        "exp_norm_error = exp_Norm.getError()"
      ]
    },
    {
      "cell_type": "markdown",
      "metadata": {
        "id": "60b4bs1od4M_"
      },
      "source": [
        "Using this structure, you can in theory build whatever models you like!\n",
        "\n",
        "Some recommendations (but not necessary to do all):-\n",
        "\n",
        "\n",
        "\n",
        "*   Gauss+Exponential (as above)\n",
        "*   Crystal Ball + Exponential\n",
        "*   Gauss+Crystal Ball+Exponential (now you need to weigh the two signal peaks and then the total signal against total background)\n",
        "*   Gauss+Chebychev\n",
        "*   Two Crystal Balls + Exponential"
      ]
    },
    {
      "cell_type": "code",
      "source": [
        "#Now to plot it all\n",
        "canvas=ROOT.TCanvas(\"doesntwork\")\n",
        "frame=mass.frame()\n",
        "data_to_fit.plotOn(frame)\n",
        "model.plotOn(frame, ROOT.RooFit.Components(\"Gauss\"),ROOT.RooFit.LineColor(8),ROOT.RooFit.LineStyle(2))\n",
        "model.plotOn(frame, ROOT.RooFit.Components(\"Bkgnd\"),ROOT.RooFit.LineColor(46),ROOT.RooFit.LineStyle(2))\n",
        "model.plotOn(frame)\n",
        "frame.Draw()\n",
        "canvas.Update()\n",
        "\n",
        "#print the values required\n",
        "print(exp_Norm_value)\n",
        "print(exp_norm_error)\n",
        "#print(frame.whyChris) found this very funny because it's an actual function\n",
        "print(frame.chiSquare())"
      ],
      "metadata": {
        "id": "N429ZtLMyDfE"
      },
      "execution_count": 21,
      "outputs": []
    },
    {
      "cell_type": "markdown",
      "metadata": {
        "id": "vHivSaH1dwy7"
      },
      "source": [
        "So how good was the fit, and how many events do you have?\n",
        "\n",
        "We can use the .getValV() function on our signal and background *normalisation* components, e.g. Gauss_Norm=Gauss.getValV()\n",
        "\n",
        "To find the error (on this number) we can use .getError()\n",
        "\n",
        "Neither of these measures would tell us if this was a good fit or not. Normally we use a χ2 test to do so - this is built into the image we made (so we can do frame.chiSquare() to get this data)\n",
        "\n",
        "For each model you made, print the signal and background yields (with errors) and report the χ2"
      ]
    },
    {
      "cell_type": "markdown",
      "metadata": {
        "id": "ob2HARgWoTGe"
      },
      "source": [
        "#Counting\n",
        "\n",
        "So we have now loaded our data; we have reconstructed information about the mother B meson and we have cut away any data which looks like it might not be what we are looking for. We have then plotted histograms of the mass of the B meson and used this to fit a model, a function to describe the events there. We now have to identify which of our events belong to the B<sup>+</sup> and how many of them belong to B<sup>-</sup>.\n",
        "\n",
        "To do this, should split out data into two groups (and throw away data which doesn't comply with either decay)\n",
        "\n",
        "We will be looking for the events which are\n",
        "\n",
        "\n",
        "B<sup>+</sup>->K<sup>+</sup> + K<sup>+</sup>  + K<sup>-</sup>\n",
        "\n",
        "or\n",
        "\n",
        "B<sup>-</sup>->K<sup>-</sup> + K<sup>-</sup>  + K<sup>+</sup>\n",
        "\n",
        "We can look for the number of positive and negative charges in H1, H2 and H3 (using the variable ```H1_Charge``` etc.). If we have 0 or 3 positive charges, we should throw the event away and if we have 1 it should be assigned be a B<sup>-</sup>, with 2 it should be a B<sup>+</sup>"
      ]
    },
    {
      "cell_type": "markdown",
      "metadata": {
        "id": "r8VB5uN1obc4"
      },
      "source": [
        "Once we have defined if it's a B<sup>+</sup> or a B <sup>-</sup>, we should go ahead and ensure the pre-selection is applied and then plot our B mass, and fit the model to find the yield.\n",
        "\n",
        "We can then calculate the assymetry from this equation:\n",
        "\n",
        "$A=\\frac{(N^{B-}-N^{B+})}{(N^{B-}+N^{B+})}$\n",
        "\n",
        "Where N<sup>B+/- </sup> is the number of events found from the fitted yield of the signal from each data set.\n",
        "\n",
        "The uncertainty on this result is given by:\n",
        "\n",
        "$\\sigma_A=\\sqrt\\frac{1-A^2}{N^{B-}+N^{B+}}$\n",
        "\n",
        "Calculate these two values for your data and print them below:"
      ]
    },
    {
      "cell_type": "markdown",
      "source": [
        "## This code does work since it is not using any value coming out of the previous .fitTo() function"
      ],
      "metadata": {
        "id": "es46CuONHbzH"
      }
    },
    {
      "cell_type": "code",
      "execution_count": 23,
      "metadata": {
        "id": "UiPNe2iuobSK",
        "colab": {
          "base_uri": "https://localhost:8080/",
          "height": 507
        },
        "outputId": "3410f951-a72a-42e2-d21c-94452daf6d36"
      },
      "outputs": [
        {
          "output_type": "stream",
          "name": "stderr",
          "text": [
            "Warning in <TCanvas::Constructor>: Deleting canvas with same name: help\n"
          ]
        },
        {
          "output_type": "display_data",
          "data": {
            "image/png": "[encoded data removed]",
            "text/plain": [
              "<IPython.core.display.Image object>"
            ]
          },
          "metadata": {}
        }
      ],
      "source": [
        "#Here do your calculation of the final result\n",
        "#To apply the selection - we can use the copytree command:\n",
        "import ROOT\n",
        "\n",
        "#Then we open the ROOT file using the TFile command. - note you need to make this file path correct for your own setup!\n",
        "f = ROOT.TFile.Open(\"/content/drive/MyDrive/B2HHH_MagnetDown.root\", \"READONLY\")\n",
        "\n",
        "#From our file, we have to extract the DecayTree \n",
        "tree=f.Get(\"DecayTree\")\n",
        "selection=(\"H1_ProbK>0.7&H2_ProbK>0.7&H3_ProbPi>0.7&!H1_isMuon&!H2_isMuon&!H3_isMuon\")\n",
        "CutTree=tree.CopyTree(selection)\n",
        "\n",
        "#We need to do the maths since trying to access the variables created results in attempting to access a null-pointer \n",
        "#Create the energy variables of the three daughter particles\n",
        "E1 = \"(sqrt((5.48*10**(-15))**2 + (sqrt((H1_PX**2) + (H1_PY**2) + (H1_PZ**2)))**2))\"\n",
        "E2 = \"(sqrt((5.48*10**(-15))**2 + (sqrt((H2_PX**2) + (H2_PY**2) + (H2_PZ**2)))**2))\"\n",
        "E3 = \"(sqrt((5.48*10**(-15))**2 + (sqrt((H3_PX**2) + (H3_PY**2) + (H3_PZ**2)))**2))\"\n",
        "\n",
        "#Create the variables for the mother particle\n",
        "energy_mother = \"(\" + E1 + \"+\" + E2 + \"+\" + E3 + \")\"\n",
        "tot_momentum = \"(sqrt((H1_PX + H2_PX + H3_PX)**2+(H1_PY + H2_PY + H3_PY)**2+(H1_PZ + H2_PZ + H3_PZ)**2))\"\n",
        "mass_mother = \"(sqrt(\" + energy_mother + \"**2 - \" + tot_momentum + \"**2))\"\n",
        "\n",
        "#and plot\n",
        "canvas = ROOT.TCanvas(\"help\")\n",
        "\n",
        "#Select the B+ and B- by adding the charges to 1 and -1\n",
        "selection_BP = (\"H1_Charge+H2_Charge+H3_Charge == 1\")\n",
        "selection_BM = (\"H1_Charge+H2_Charge+H3_Charge == -1\")\n",
        "\n",
        "#Cut the trees\n",
        "CutTree_BP=CutTree.CopyTree(selection_BP)\n",
        "CutTree_BM=CutTree.CopyTree(selection_BM)\n",
        "\n",
        "CutTree_BP.Draw(mass_mother+\">>BP(300,4000,7000)\")\n",
        "CutTree_BM.Draw(mass_mother+\">>BM(300,4000,7000)\")\n",
        "\n",
        "histogram = ROOT.gDirectory.Get(\"BP\")\n",
        "histogram2 = ROOT.gDirectory.Get(\"BM\")\n",
        "\n",
        "histogram.SetLineColor(2)\n",
        "histogram2.SetLineColor(4)\n",
        "\n",
        "histogram.Draw()\n",
        "histogram2.Draw('same')\n",
        "\n",
        "canvas.Draw()"
      ]
    },
    {
      "cell_type": "markdown",
      "source": [
        "Unfortunately, from now on we use the .fitTo() function again so this code is again a guess of how I would do it if it worked."
      ],
      "metadata": {
        "id": "4Izlz37sHqnP"
      }
    },
    {
      "cell_type": "code",
      "source": [
        "#Repeat the \"how do we count the number of events\" part for the new CutTrees\n",
        "#To apply the selection - we can use the copytree command:\n",
        "import ROOT\n",
        "\n",
        "#Then we open the ROOT file using the TFile command. - note you need to make this file path correct for your own setup!\n",
        "f = ROOT.TFile.Open(\"/content/drive/MyDrive/B2HHH_MagnetDown.root\", \"READONLY\")\n",
        "\n",
        "#From our file, we have to extract the DecayTree \n",
        "tree=f.Get(\"DecayTree\")\n",
        "selection=(\"H1_ProbK>0.7&H2_ProbK>0.7&H3_ProbPi>0.7&!H1_isMuon&!H2_isMuon&!H3_isMuon\")\n",
        "CutTree=tree.CopyTree(selection)\n",
        "\n",
        "#We need to do the maths since trying to access the variables created results in attempting to access a null-pointer \n",
        "#Create the energy variables of the three daughter particles\n",
        "E1 = \"(sqrt((5.48*10**(-15))**2 + (sqrt((H1_PX**2) + (H1_PY**2) + (H1_PZ**2)))**2))\"\n",
        "E2 = \"(sqrt((5.48*10**(-15))**2 + (sqrt((H2_PX**2) + (H2_PY**2) + (H2_PZ**2)))**2))\"\n",
        "E3 = \"(sqrt((5.48*10**(-15))**2 + (sqrt((H3_PX**2) + (H3_PY**2) + (H3_PZ**2)))**2))\"\n",
        "\n",
        "#Create the variables for the mother particle\n",
        "energy_mother = \"(\" + E1 + \"+\" + E2 + \"+\" + E3 + \")\"\n",
        "tot_momentum = \"(sqrt((H1_PX + H2_PX + H3_PX)**2+(H1_PY + H2_PY + H3_PY)**2+(H1_PZ + H2_PZ + H3_PZ)**2))\"\n",
        "mass_mother = \"(sqrt(\" + energy_mother + \"**2 - \" + tot_momentum + \"**2))\"\n",
        "\n",
        "#define physical measurment that we want to fit using RooRealVar\n",
        "# var = ROOT.RooRealVar =(\"Variable from Python\", \"Nickname\",Min, Max, Units)\n",
        "mass = ROOT.RooRealVar(\"mass_mother\",\"Mass\",5000,5900,\"MeV/C^{2}\")\n",
        "\n",
        "#passing the rest of the variables into the model\n",
        "#For the RooRealVar the last three parameters are given, \"starting value\" and min/max values\n",
        "gaussMean = ROOT.RooRealVar(\"Mean\",\"Mean\",5250,5000,6000)\n",
        "gaussWidth = ROOT.RooRealVar(\"Width\",\"Width\",10,0,10000)\n",
        "\n",
        "#Now we have enough to make our Model for the signal:\n",
        "\n",
        "Gauss=ROOT.RooGaussian(\"Gaussian Signal\",\"Gauss\",mass,gaussMean,gaussWidth)\n",
        "Gauss_Norm_BP= ROOT.RooRealVar(\"Gauss_Norm\",\"Signal Yield\", tree.GetEntries()/30, 0, tree.GetEntries() * 3)\n",
        "Gauss_Norm_BM= ROOT.RooRealVar(\"Gauss_Norm\",\"Signal Yield\", tree.GetEntries()/30, 0, tree.GetEntries() * 3)\n",
        "\n",
        "\n",
        "#We also need a background, so let's use a (simple) exponential:\n",
        "exponent=ROOT.RooRealVar(\"exponent\", \"C\", -0.02, -2, +2)\n",
        "exp_Norm_BP= ROOT.RooRealVar(\"exp_Norm\",\"Background Yield\", tree.GetEntries()/30, 0, tree.GetEntries() * 2)\n",
        "exp_Norm_BM= ROOT.RooRealVar(\"exp_Norm\",\"Background Yield\", tree.GetEntries()/30, 0, tree.GetEntries() * 2)\n",
        "\n",
        "\n",
        "#Define the  model for the background:\n",
        "Bkgnd=ROOT.RooExponential(\"Exponential Background\",\"Bkgnd\",mass,exponent)\n",
        "\n",
        "#Now we need to combine these two functions into a single PDF (probability density function)\n",
        "#and we need to add the normalisation factors at the end as scaling factors\n",
        "\n",
        "model_BP=ROOT.RooAddPdf(\"Full Model\",\"model\",ROOT.RooArgList(Gauss,Bkgnd),ROOT.RooArgList(Gauss_Norm_BP, exp_Norm_BP) )\n",
        "model_BM=ROOT.RooAddPdf(\"Full Model\",\"model\",ROOT.RooArgList(Gauss,Bkgnd),ROOT.RooArgList(Gauss_Norm_BM, exp_Norm_BM) )\n",
        "\n"
      ],
      "metadata": {
        "id": "nixpdsDtDP-Q"
      },
      "execution_count": null,
      "outputs": []
    },
    {
      "cell_type": "code",
      "source": [
        "#To apply the selection - we can use the copytree command:\n",
        "import ROOT\n",
        "\n",
        "#Then we open the ROOT file using the TFile command. - note you need to make this file path correct for your own setup!\n",
        "f = ROOT.TFile.Open(\"/content/drive/MyDrive/B2HHH_MagnetDown.root\", \"READONLY\")\n",
        "\n",
        "#From our file, we have to extract the DecayTree \n",
        "tree=f.Get(\"DecayTree\")\n",
        "selection=(\"H1_ProbK>0.7&H2_ProbK>0.7&H3_ProbPi>0.7&!H1_isMuon&!H2_isMuon&!H3_isMuon\")\n",
        "CutTree=tree.CopyTree(selection)\n",
        "\n",
        "#Put our data set into a RooDataSet structure\n",
        "data_to_fit_BP=ROOT.RooDataSet(\"Data Set\",\"data_to_fit\", CutTree_BP, ROOT.RooArgSet(mass))\n",
        "data_to_fit_BM=ROOT.RooDataSet(\"Data Set\",\"data_to_fit\", CutTree_BM, ROOT.RooArgSet(mass))\n",
        "\n",
        "\n",
        "#Then we can do the fitting:\n",
        "\n",
        "model_BP.fitTo(data_to_fit_BP)\n",
        "model_BM.fitTo(data_to_fit_BM)\n",
        "\n",
        "#if everything went well, you will see the outputs of RooFit below"
      ],
      "metadata": {
        "id": "WLM7Zvb3D-ch"
      },
      "execution_count": null,
      "outputs": []
    },
    {
      "cell_type": "code",
      "source": [
        "#Plot B+\n",
        "canvas=ROOT.TCanvas(\"positivity\")\n",
        "frame_BP=mass.frame()\n",
        "data_to_fit_BP.plotOn(frame_BP)\n",
        "model_BP.plotOn(frame_BP, ROOT.RooFit.Components(\"Gauss\"),ROOT.RooFit.LineColor(8),ROOT.RooFit.LineStyle(2))\n",
        "model_BP.plotOn(frame_BP, ROOT.RooFit.Components(\"Bkgnd\"),ROOT.RooFit.LineColor(46),ROOT.RooFit.LineStyle(2))\n",
        "model_BP.plotOn(frame_BP)\n",
        "frame_BP.Draw()\n",
        "canvas.Update()\n"
      ],
      "metadata": {
        "id": "8qdOB6S1EbAz"
      },
      "execution_count": null,
      "outputs": []
    },
    {
      "cell_type": "code",
      "source": [
        "#Plot B-\n",
        "canvas=ROOT.TCanvas(\"negativity\")\n",
        "frame_BM=mass.frame()\n",
        "data_to_fit_BM.plotOn(frame_BM)\n",
        "model_BM.plotOn(frame_BM, ROOT.RooFit.Components(\"Gauss\"),ROOT.RooFit.LineColor(8),ROOT.RooFit.LineStyle(2))\n",
        "model_BM.plotOn(frame_BM, ROOT.RooFit.Components(\"Bkgnd\"),ROOT.RooFit.LineColor(46),ROOT.RooFit.LineStyle(2))\n",
        "model_BM.plotOn(frame_BM)\n",
        "frame_BM.Draw()\n",
        "canvas.Update()\n"
      ],
      "metadata": {
        "id": "mZOZuwz0Ep8u"
      },
      "execution_count": null,
      "outputs": []
    },
    {
      "cell_type": "code",
      "source": [
        "#We can start calculating the assymmetry\n",
        "import math\n",
        "NM = Gauss_Norm_BM.getValV()\n",
        "NP = Gauss_Norm_BP.getValV()\n",
        "\n",
        "A = (NM - NP)/(NM + NP)\n",
        "\n",
        "sigma = math.sqrt((1 - A**2)/(NM + NP))\n",
        "print(sigma)"
      ],
      "metadata": {
        "id": "3df8IlRcFICn"
      },
      "execution_count": null,
      "outputs": []
    },
    {
      "cell_type": "markdown",
      "metadata": {
        "id": "r5B--_33okz1"
      },
      "source": [
        "#Congratulations!\n",
        "\n",
        "You just made your first LHCb physics analysis. Does this seem like a reasonable result? Did we explain why we have an excess of mass in the Universe?"
      ]
    }
  ],
  "metadata": {
    "colab": {
      "provenance": [],
      "include_colab_link": true
    },
    "gpuClass": "standard",
    "kernelspec": {
      "display_name": "Python 3",
      "name": "python3"
    },
    "accelerator": "TPU",
    "language_info": {
      "name": "python"
    }
  },
  "nbformat": 4,
  "nbformat_minor": 0
}